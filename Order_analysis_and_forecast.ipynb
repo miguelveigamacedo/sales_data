{
 "cells": [
  {
   "cell_type": "markdown",
   "id": "intelligent-rotation",
   "metadata": {},
   "source": [
    "# Analysing the orders data and forecasting\n"
   ]
  },
  {
   "cell_type": "markdown",
   "id": "conceptual-manitoba",
   "metadata": {},
   "source": [
    "Sources for the toturials that I used: https://www.youtube.com/watch?v=GGL6U0k8WYA"
   ]
  },
  {
   "cell_type": "code",
   "execution_count": 3,
   "id": "inclusive-share",
   "metadata": {},
   "outputs": [],
   "source": [
    "%store -r orders_data\n",
    "\n"
   ]
  },
  {
   "cell_type": "code",
   "execution_count": null,
   "id": "athletic-deputy",
   "metadata": {},
   "outputs": [],
   "source": [
    "import pandas as pd\n",
    "import numpy as py\n",
    "import chart_studio.plotly as py\n",
    "import plotly.express as px\n",
    "import seaborn as sns\n",
    "import cufflinks as cff\n",
    "%matplotlib inline\n",
    "from plotly.offline import download_plotlyjs , init_notebook_mode plot, iplot)\n",
    "init_notebook_mode(connected=True)\n",
    "cf.go_offline()\n"
   ]
  },
  {
   "cell_type": "markdown",
   "id": "pacific-picture",
   "metadata": {},
   "source": [
    "To erase\n",
    "Analysis:\n",
    "-describe\n",
    "-group by day"
   ]
  }
 ],
 "metadata": {
  "kernelspec": {
   "display_name": "Python 3",
   "language": "python",
   "name": "python3"
  },
  "language_info": {
   "codemirror_mode": {
    "name": "ipython",
    "version": 3
   },
   "file_extension": ".py",
   "mimetype": "text/x-python",
   "name": "python",
   "nbconvert_exporter": "python",
   "pygments_lexer": "ipython3",
   "version": "3.9.1"
  }
 },
 "nbformat": 4,
 "nbformat_minor": 5
}
